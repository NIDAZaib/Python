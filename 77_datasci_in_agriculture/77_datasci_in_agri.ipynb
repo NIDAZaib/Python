{
 "cells": [
  {
   "cell_type": "markdown",
   "metadata": {},
   "source": [
    "**Datascience in Agriculture**\\\n",
    "*Author Nida Zaib*\\\n",
    "05/02/2021"
   ]
  },
  {
   "cell_type": "markdown",
   "metadata": {},
   "source": [
    "**Introduction**\n",
    "![Image](1.PNG)\n",
    "- Example of the Use of Data science in agriculture\n",
    "  \n",
    "Nitrogen gas or reactive nitrogen emissions not only agriculture but also from other fields eg traffic or energy sector has to be lessened so that their impact on global warming could be minimized. Even nitrous oxide's impact on global warming is 200 to 300 times more than carbon so that is why its management is important. Also, our food production should not be minimized. Especially in south Asia agricultural involvement is more and industrial countries are less so our main focus should be on agriculture. We are using nitrogenous fertilizers in higher concentrations that is why there is a need to minimize emissions from them. With the help of data science, we should make an inventory that when and how much emissions of nitrous oxide or reactive nitrogen species were there also what is the situation now and what are the future predictions. This is all data science, We can give policy with this data science which information we will collect and real experiment that we will do and on that base, we will give a policy that in future what should Pakistan do and what should other south Asian countries do. \n",
    "\n",
    "Agriculture-related people may know that the United Nations passed a resolution in 2019 in their environment program that nitrogen emissions should be minimized. Their office is in Kenya, Nairobi. In October in Colombo declaration, it was proposed that in 2030 we have to make nitrogen waste half. In the UK during the cope26 Sri Lankan president speech was based on Colombo declarations and I think the nitrogen project is very much connected with data science that you have 8 countries information the information of 50 years back and prediction from that through modeling what will be the scenario in the future and with that we will do experiments in 8 countries that are based upon a similar set of experiments. The work in 8 countries will generate the information that is also data science and upon that there will be modeling and on that base, we will make some decisions or give recommendations so I think today's era is about data science it's everywhere and you can't move without it. Its reason is that life is very fast your communication your sources are very fast that if we will not make decisions on the basis of data science then we will not be able to progress"
   ]
  },
  {
   "cell_type": "markdown",
   "metadata": {},
   "source": [
    "![image](2.PNG)\n",
    "\n",
    "Sustainable development goals contain no poverty, zero hunger involve agriculture, good health & well being also clean water & sanitation climate action life below water & life on land it is not like that our agriculture is related with it these are dependent upon agriculture so that if you will not perform agriculture precisely then you will make water polluted below the water life will be affected by it also it will affect climate change..so climate change is affecting agriculture and agriculture is affecting climate change. So these 2 things are interdependent and other SDGs are related to agriculture somehow.\n",
    "If we will say there is no poverty now data science is where it comes, or If we say that much food is not producing that will be enough to feed people in this condition where comes data science.\n",
    "\n",
    "In the real world, its production is enough and more than the requirement then why people are still poor there is still nothing to eat in some areas of Africa or India, and also in some areas of  Pakistan, there is not enough food. What is its reason? The reason is if we will precisely distribute food based on data, the food that is wasteful can be given to those people. We don't have that precision. In agriculture, we say that there is not enough fertilizer eg urea recent scenario so fertilizer unavailability is not overall present but how much you are applying more than half of its is wasteful if you have information precise because precision will come from science and the information which would you collect on that base you will make a precise decision if you would do that then there will be no shortage so on that base I think data science involvement in relation with agriculture and SDGs if we want to achieve them you can see their examples that in this world of data science there is no project without it. They ask language why they ask language even for Ph.D. they are demanding because it is necessary for data science."
   ]
  },
  {
   "cell_type": "markdown",
   "metadata": {},
   "source": [
    "![image](3.PNG)\n",
    "The purple line is showing a growth rate of the population that is decreasing, but the total population is not decreasing, of course, resources are limited. Resources never become infinite. Our resources in the agricultural land area, for expansion there is nothing, in south Asia there is nothing but in Africa or in South America maybe you will find something but in our south Asia there is no land for expansion. It means we have to use our resources precisely, otherwise, we will not be able to feed our today's populations and the population will be more in the future if you will see this prediction of 2100 that is 7.7 billion and going towards 9.7 billion or going above 10 billion. So it means we have to use our resources precisely and for precise use, we need data science."
   ]
  },
  {
   "cell_type": "markdown",
   "metadata": {},
   "source": [
    "**A growing world population requires an increased global food supply**\n",
    "\n",
    "![image](4.PNG)\n",
    "\n",
    "STEWART et al performed studies in 2005 and he reported 362 seasons of crop production he proposed that 30 to 50 percent production can be attributed to commercial fertilizer inputs. Now see in 2005 situation was this that he said 50 percent by 2030 and double in 30 years so how much commercial fertilizer you should use or if you will use then its impact the resolution which has came that sustainable nitrogen that has to come because the nitrogen you are using is not that much efficient then what is the solution? The solution is that we have to use it precisely. You don't have to only use precision in fertilizer but also in decisions other factors which are affecting agriculture production or growth and reducing agriculture production on that you have to take a precise decision. In taking those precise decisions data science is necessary."
   ]
  },
  {
   "cell_type": "markdown",
   "metadata": {},
   "source": [
    "**Smart Farming**\n",
    "\n",
    "![image](5.PNG)\n",
    "\n",
    "When we talk about precision farming then comes smart farming it contains sensing technologies, software applications, communication systems, in it comes mobile phones, positioning technologies, hardware software, data analytical systems. These all things make smart farming and how they make we will see next."
   ]
  },
  {
   "cell_type": "markdown",
   "metadata": {},
   "source": [
    "**Need for Data Science application in Agriculture**\n",
    "\n",
    "![6.pngimage](6.PNG)\n",
    "\n",
    "- Annually, all farmers asses risk to make decisions when they start growing crops.\n",
    "- Shared knowledge about these risks helps them improve their farms. \n",
    "- Today many industries are using data science to make informed decisions that drive business and improve customer experiences.\n",
    "- Basically, risks are increasing and to minimize these risks and increase productivity we need data science.\t"
   ]
  },
  {
   "cell_type": "markdown",
   "metadata": {},
   "source": [
    "**Farmers manipulate the information and make decisions**\n",
    "\n",
    "![image](7.PNG)\n",
    "\n",
    "Risk contains modern and old risks.\n",
    "Question: Whether these four steps were not performed before by farmers?\n",
    "Is that farmer does not gather information? \n",
    "Does he identify problems?\n",
    "Does he choose alternatives?\n",
    "Yes he does\n",
    "\n",
    "If you see a small farmer he will do all these things. And the information he collects from that he uses his favorite things which he finds good in decision making. Farmers are doing this before and till now. He takes decisions on the basis of information he likes as we make decisions on each and everything on the basis of information. Now demands are increasing and resources are exhausting. The involvement of risk in our decisions is increasing. In decisions or performing the above four steps not only farmers, personal experience or surroundings information is not enough. He needs more information about climate change, below the soil and below the sky.\t"
   ]
  },
  {
   "cell_type": "markdown",
   "metadata": {},
   "source": [
    "**Datascience in Agriculture**\n",
    "\n",
    "![image](8.PNG)\n",
    "\n",
    "- When agriculture shares knowledge with data science, Farmers are able to make better-informed decisions for greater outcomes.\n",
    "- Give farmers across excess to improved planning, better monitoring and insight into yield outcomes.\\\n",
    "Data science needs are more because demands are more. \n",
    "- What things are involved in it if we see agriculture? \n",
    "Ecommerce, retail, manufacturing and shipping are the overall agriculture industry and upon that base, farmers make decisions and work progressively. If the commodity has no market value and he is not able to ship anywhere, If he doesn't know its manufacturing and what retail he will gain he will not be able to perform well if he would know all this information then he will be able to make its farming progressively.\n",
    "\n",
    "- He will then collect weather information, field characteristics and he will see climate, and management of agronomy insights but He will make these decisions when he would know about the overall agriculture scenario. Now this is all the information he collects with data science. Farmers' decision steps are again based on data science.\n",
    "Overall what motivates farmers to make decisions is data science and the decisions he makes are also data science. Conventionally he is getting the information was not enough. "
   ]
  },
  {
   "cell_type": "markdown",
   "metadata": {},
   "source": [
    "**Datascience from farm to folks**\n",
    "\n",
    "![image](9.PNG)\n",
    "\n",
    "What is farm to folk data science?\n",
    "The market is giving inputs on that base farmer is doing farming. During farming he studies preharvest information eg weather condition, overall financial services, and loan related information collects first then do farming and make decisions and then post-harvest technologies eg storing, where to store, he will collect all this information then his farming will complete.\n",
    "\n",
    "Then comes processing, procurement, distribution/retailer, and consumer and their habits, now see my work is on biofortification in which we make cereal enrichment with nutrients now the habit of people is that when a little variation in taste occurs they will not eat it. If there is no consumer then why farmers will produce it, means there is no marketing of it. Farming depends upon the taste of the consumer's mouth. If you are taking a variety of wheat with less gluten which produces stickiness, in our houses we make tortilla but people were not making tortillas with flour of that wheat variety Then there was a variety in which stickiness was much more that was also not suitable for tortilla because people make tortilla with hands and their hands become tired so whenever you don't know the habits of consumers you can not perform distribution. Things are the same but in today's era, you need them more because you cannot afford them. Previously farmers' demands were less, their needs were less, if one crop does not perform well they can bear it. But today they can't tolerate it because the expense on crops is more. If one crop of farmers drops he will be devastated. So I think information in today's era is necessary for them.\n"
   ]
  },
  {
   "cell_type": "markdown",
   "metadata": {},
   "source": [
    "**What can we do to improve agriculture productivity**\n",
    "\n",
    "![image](10.PNG)\n",
    "\n",
    "Farmers need information on soil conditions, about crops and their types, what kind of cropping system can be there weather predictions and fertilizer recommendation which means precise and efficient because both things are more important than comes disease detection, farmers who have grown 10 to 20 acres, or in Australia and other countries there are bigger farms, so he needs technology for disease detection and management, automated irrigation systems and  then how to adapt climate. So all these things require innovation. Also behind digital soil mapping there is data science."
   ]
  },
  {
   "cell_type": "markdown",
   "metadata": {},
   "source": [
    "**What can we do to improve agriculture productivity**\n",
    "\n",
    "![11.PNGimage](11.PNG)\n",
    "\n",
    "Now take the mask example as a data-driven industry. When mask demand was increased then the industry flourished. Until you don't know about the demands and demand will come from your data. \n",
    "\n",
    "Another example in our university, students got an assignment that go on to the bus station and check how many people ride and leave a bus. And how many are on the next stop? Based on that they plan the route. Which bus we should start on that route either we should start here a single bus or double bus or on which time. On Friday they provide double buses due to heavy crowd movement towards the mosque. They can not keep running those buses in that route forever because their expenses are high. They collected that data and based on that data they took the decision and performed the work efficiently and also save their expenses.\n",
    "\n",
    "Then come ideal crops and consumer expectations. One person sitting in the village will not be able to know the consumer's expectations. He is not producing only for the village he is doing it for his province or country. He should know the demands. Until he does not get the data and until he can’t work on it and on its base he will not perform the cultivation. Then he will not be able to gain the return.\n"
   ]
  },
  {
   "cell_type": "markdown",
   "metadata": {},
   "source": [
    "**Datascience in agriculture how it works**\n",
    "\n",
    "![image](12.PNG)\n",
    "\n",
    "Basically, we put sensors in crops but crops are themselves a sensor. They tell you a lot of things about what is in your soil. Even some special shrubs, before people do mining they decide on the base of those shrubs in that soil which minerals are present in more quantity. One plant is grown specifically in some areas where copper is present in huge amounts. Then they start mining in that area. Crops or other plants are themselves a sensor but you can put sense or machine learning or digital tools or machinery, or by using electric sensor we can collect information.\\\n",
    "Then comes the platform we use all the sense information, we use the software we generate data then comes artificial intelligence, next we do implement and finally, on that, we take actual decisions. This is a cycle which stay starts forever. This is how data science in agriculture works. And these all the things are involved in it from start to decision making."
   ]
  },
  {
   "cell_type": "markdown",
   "metadata": {},
   "source": [
    "**Datascience in agriculture how it works**\n",
    "\n",
    "![Image](13.PNG)\n",
    "\n",
    "If we see in the big picture what these are, We will see future conditions, weather conditions, season dates decision, what to grow, and when it's based on the consumers behavior overall you will see what to grow or you would relate it with weather conditions then comes insurance premium that insurance premium also works on data science. In our country, this kind of policy is not present. Banks in Pakistan are thinking even if we are giving credit to farmers their information should be available or at least for that crop you are giving credit, what should be their weather conditions. If they give this much information then their debit loss chance could be minimized. This is a broader picture of what data science can give us.\n",
    "\n",
    "Then there is its smaller picture. Irrigation fertilization, machine, efficiency, efficiency enhancement will decrease cost. It's exactly at farm level, the above para gives overall information."
   ]
  },
  {
   "cell_type": "markdown",
   "metadata": {},
   "source": [
    "**The smart farm conceptual framework**\n",
    "\n",
    "![image](14.PNG)\n",
    "\n",
    "If we see a smart farm conceptual framework we cannot only depend upon the only above surface. Above the surface, information was also previously available but we need all the data of how much soil surface erosion is occurring, will it come in our concept without involving data science that how much soil is eroding? Its not possible because soil erosion is happening everywhere it's not happening in mountainous areas it's also occurring in our fields.\n",
    "\n",
    "Also, runoff is happening how much nutrients are going with it how much leaching is happening, how much residues of pesticides are going down with leaching how much they are contaminating underground water. The above is a model and we require all the information above and we have to take care of all these aspects then we can say this is a modern smart farm because the environment and agriculture are related to each other. If the environment will not be in good condition then there will be agricultural losses if agriculture will not be precise then it will create a bad impact on the environment. So the work on their connectivity is necessary."
   ]
  },
  {
   "cell_type": "markdown",
   "metadata": {},
   "source": [
    "**The smart farm conceptual framework**\n",
    "\n",
    "![image](15.PNG)\n",
    "\n",
    "If you see here satellite, aircraft farming, geolocation of data then wireless sensors network which are used in temperature, humidity, co2 gases, soil moisture, then most important in today scenario is decision making, improvement in crop yield but you have to keep the cost low for our farmers it is very difficult to manage and they say we are just dead. Then comes human expertise innovation, education overall then we analyze local data features, we take data from wireless networks these all things and our conceptual framework if we will understand them,then we can develop that kind of farm."
   ]
  },
  {
   "cell_type": "markdown",
   "metadata": {},
   "source": [
    "**Big data for all, how it helps to improve agriculture productivity**\n",
    "\n",
    "![16.PNGIMAGE](16.PNG)\n",
    "\n",
    "If you narrow down, and if these 5 databases of evaporation, biomass, precipitation, land use, and co2  are available then on these bases, we can make precise decisions. Our irrigation biomass production are dependent upon them. Carbon dioxide causes global warming but it also enhances the photosynthetic rate, now we have to see from where the net benefit is coming if there is little impact on photosynthesis but the overall hazardous impact of co2 is more. Overall it is not called beneficial but specific to photosynthesis there are its benefits.\n"
   ]
  },
  {
   "cell_type": "markdown",
   "metadata": {},
   "source": [
    "**Big data for all, how it helps to improve agriculture productivity**\n",
    "\n",
    "![image](17.PNG)\n",
    "Now, this is the scenario of the past, GMOs came in 1980s, in 2008 GPS tracking came, Now the farmer is confused in a transition because these digital tools are pulling him towards them. He is stuck in them. Our farmers in third-world countries are not aware of GPS technology. Fast communication is what I have talked about before, their brain is filled with a lot of things, so they don't understand what to do. In the present scenario, farmers are confused in Pakistan and South Asia, European and Australian farmers of biggest farms their situation is different because they understand this technology and they are not that much confused. If we will come out of this situation then the future belongs to the digital era. I think this confused era is now going to end.\n",
    "In Australia and the Americas bigger farms, one man is sitting and doing everything reason is that farms are bigger and laborers are not present and in our country a similar situation is happening our labor cost is high and labors are not present.\n",
    "\n",
    "If we precisely tell farmers how much water you have to use in agriculture crop by considering weather conditions for example if tomorrow is going to rain then there is not need to give water to the crops.  \n"
   ]
  },
  {
   "cell_type": "markdown",
   "metadata": {},
   "source": [
    "**Implementation of data science in agriculture industry readily welcoming!**\n",
    "\n",
    "![image](18.PNG)\n",
    "\n",
    "Why we are not adopting these modern technologies? \n",
    "Farmers do not accept things fastly they are skeptical about changing their methods. This is the nature of every person. Basically, farmer communities work on traditions they do not change things of their former ancestral that much easier even in Germany and other areas.\n",
    "Secondly, it's costly they are scared that things can go wrong they don't want to take risks.\n",
    "Digital methods require large investments If we see farms in Australia and America there is a lot of costs. In South Asia, there are small farmers who cannot do these kinds of things.\n",
    "Farmers are uneducated, digital things are new to them they are not capable or educated people are also not capable. We are also not capable to bring them towards this technology.\n",
    "Only bigger farmers are taking benefit of data-driven solutions. And their profits are more they have very big systems, for example, drip irrigation, sensitivity sensors are present. If companies will involve in it, small landholders will not be able to take that much benefit from it as the companies in todays situation."
   ]
  },
  {
   "cell_type": "markdown",
   "metadata": {},
   "source": [
    "**How to get farmers trust?**\n",
    "\n",
    "![image](19.PNG)\n",
    "\n",
    "Farmers do not believe on the private sector until they do not get a green signal from the government sector this is a common situation in South Asia but in India, they have started adopting a little innovation, they have started neam coating on fertilizers these have done by Government sector if it will not be involved in it then the only private sector can not do these changes. That is why If private and public sectors combinely bring something, farmers will believe in it. He will see risk less and will give it a try.\n"
   ]
  },
  {
   "cell_type": "markdown",
   "metadata": {},
   "source": [
    "**Utilization datascience can be used at farm-gate-level smart agriculture apps**\n",
    "\n",
    "![1. image](20.PNG)\n",
    "\n",
    "What is the solution for small landholders for that is an agriculture app. We can minimize farmer confusion with an app. On his mobile, we can combine all these our automated systems or machine learning, remote sensing, and satellite imaging and tell farmers an easy way that if you do all these work with the help of this app then you will get these benefits.  of course, he will not be convinced by it we have to do more than that. We have to make efforts to market it. But this is a solution so don't go to the farmer and tell him this is satellite imaging. Rather than provide this app to small landholders and uneducated farmers and convince them to come towards these apps and get attracted towards them."
   ]
  },
  {
   "cell_type": "markdown",
   "metadata": {},
   "source": [
    "**Lets make it real: SaWiE in Pakistan**\n",
    "\n",
    "![image](21.PNG)\n",
    "\n",
    "Sawie is an app used in Pakistan launched by president Arif Alvi although it is not complete yet its idea is to give all the information about weather, disease detection, nitrogen application especially based on the soil data.  On its back there is data, soil analysis of Punjab and other regions is available which will give info about fertilizer recommendations. Information about organic matter is in its back. Then from satellites imaging of vegetations, nitrogen fertilization that precise nitrogen fertilizer recommendation we will tell them, then the time of nitrogen application, is available on this app. Farmer has to selec his farm, he can download app from play store, he can trace his agriculture farm from that, can get information about his vegetation. If there is an insufficiency of nitrogen in soil then this app will indicate to add fertilizer. "
   ]
  }
 ],
 "metadata": {
  "language_info": {
   "name": "python"
  },
  "orig_nbformat": 4
 },
 "nbformat": 4,
 "nbformat_minor": 2
}
